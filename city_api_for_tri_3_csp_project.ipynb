{
  "nbformat": 4,
  "nbformat_minor": 0,
  "metadata": {
    "colab": {
      "provenance": []
    },
    "kernelspec": {
      "name": "python3",
      "display_name": "Python 3"
    },
    "language_info": {
      "name": "python"
    }
  },
  "cells": [
    {
      "cell_type": "code",
      "execution_count": null,
      "metadata": {
        "id": "TOgapy6372LQ"
      },
      "outputs": [],
      "source": [
        "# Import the requests module\n",
        "import requests\n",
        "\n",
        "# Set the URL of the API endpoint\n",
        "url = \"https://wft-geo-db.p.rapidapi.com/v1/geo/adminDivisions\"\n",
        "\n",
        "# Set the headers for the API request\n",
        "headers = {\n",
        "    \"X-RapidAPI-Key\": \"c0f7469cd7mshc45a4834d55afdep1b5c00jsnc8a41fb46f94\",\n",
        "    \"X-RapidAPI-Host\": \"wft-geo-db.p.rapidapi.com\"\n",
        "}\n",
        "\n",
        "# Make the API request using the requests module\n",
        "response = requests.request(\"GET\", url, headers=headers)\n",
        "\n",
        "# Print the response text\n",
        "print(response.text)\n",
        "\n",
        "# Check the status code of the response\n",
        "if response.status_code == 200:\n",
        "    print(\"API request was successful!\")\n",
        "elif response.status_code == 400:\n",
        "    print(\"Bad request! Check your parameters.\")\n",
        "elif response.status_code == 401:\n",
        "    print(\"Unauthorized! Check your API key.\")\n",
        "elif response.status_code == 404:\n",
        "    print(\"API endpoint not found!\")\n",
        "else:\n",
        "    print(f\"Unexpected status code: {response.status_code}\")\n",
        "\n",
        "# Convert the response text from JSON to a Python dictionary\n",
        "data = response.json()\n",
        "\n",
        "# Print the number of administrative divisions in the response\n",
        "print(f\"There are {len(data['data'])} administrative divisions.\")\n",
        "\n",
        "# Print the names of the first 10 administrative divisions in the response\n",
        "print(\"The first 10 administrative divisions are:\")\n",
        "for division in data['data'][:10]:\n",
        "    print(division['name'])\n",
        "    \n",
        "# Print the full name of the administrative division with ID 3780\n",
        "division_id = 3780\n",
        "for division in data['data']:\n",
        "    if division['id'] == division_id:\n",
        "        print(f\"The full name of division {division_id} is {division['fullName']}.\")\n",
        "        break\n",
        "else:\n",
        "    print(f\"Division {division_id} not found in response.\")"
      ]
    }
  ]
}